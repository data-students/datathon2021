{
 "cells": [
  {
   "cell_type": "markdown",
   "metadata": {},
   "source": [
    "# Reviews Challenge"
   ]
  },
  {
   "cell_type": "markdown",
   "metadata": {},
   "source": [
    "The goal of this challange is to use data from restaurant reviews in Google Maps to create a Natural Language Processing (NLP) pipeline. For example, you can train a Deep Learning model to generate new random reviews or you could try to predict the number of stars a reviewer gave to a restaurant from the review they wrote. \n",
    "\n",
    "If you want you can also use this dataset in order to do some data analysis or visualization. For example, you could show the relationship between a restaurant's location, price and average rating. However, we encourage you to try to engage in some NLP/ML tasks. Even if you have no previous experience in Deep Learning or Machine Learning you can try to learn the basics over the weekend, at the end of the notebook we share with you some resources we think might be helpful.\n",
    "\n",
    "You may even deploy some NLP models you develop! Take, for example, a WebApp where a user can input a review and is given a prediction for the rating of said review. The sky is the limit, get your ceative juices flowing! \n",
    "\n",
    "The possibilities are endless. This notebook begins with a brief description of the dataset and continues with an example of an NLP task where I give some tips on how to tackle this challenge. At the end, we attach some links to some resources for those of you who might want to learn more about NLP and ML. When doing any sort of ML solution, remember to **train and validate** your models using *train_reviews.json* and report your accuracy or other metrics using the **test data** in *test_reviews.json*, if need be."
   ]
  },
  {
   "cell_type": "markdown",
   "metadata": {},
   "source": [
    "## Taking a look at our data"
   ]
  },
  {
   "cell_type": "markdown",
   "metadata": {},
   "source": [
    "First of all let's take a look at the data:"
   ]
  },
  {
   "cell_type": "code",
   "execution_count": 1,
   "metadata": {},
   "outputs": [],
   "source": [
    "import json "
   ]
  },
  {
   "cell_type": "code",
   "execution_count": 2,
   "metadata": {},
   "outputs": [],
   "source": [
    "f=open(\"train_reviews.json\")\n",
    "json_data=json.load(f)"
   ]
  },
  {
   "cell_type": "code",
   "execution_count": 3,
   "metadata": {
    "scrolled": true
   },
   "outputs": [
    {
     "name": "stdout",
     "output_type": "stream",
     "text": [
      "Number of records (restaurants):  270\n"
     ]
    }
   ],
   "source": [
    "print(\"Number of records (restaurants): \",len(json_data))"
   ]
  },
  {
   "cell_type": "markdown",
   "metadata": {},
   "source": [
    "#### Example record"
   ]
  },
  {
   "cell_type": "code",
   "execution_count": 4,
   "metadata": {
    "scrolled": true
   },
   "outputs": [
    {
     "data": {
      "text/plain": [
       "['position',\n",
       " 'title',\n",
       " 'place_id',\n",
       " 'data_id',\n",
       " 'data_cid',\n",
       " 'gps_coordinates',\n",
       " 'rating',\n",
       " 'reviews',\n",
       " 'price',\n",
       " 'type',\n",
       " 'address',\n",
       " 'open_state',\n",
       " 'hours',\n",
       " 'phone',\n",
       " 'website',\n",
       " 'description',\n",
       " 'thumbnail',\n",
       " 'reviews_data']"
      ]
     },
     "execution_count": 4,
     "metadata": {},
     "output_type": "execute_result"
    }
   ],
   "source": [
    "list(json_data[0].keys())"
   ]
  },
  {
   "cell_type": "markdown",
   "metadata": {},
   "source": [
    "We have 42104 reviews in total, averaging at around 140 reviews per restaurant."
   ]
  },
  {
   "cell_type": "markdown",
   "metadata": {},
   "source": [
    "#### Example review"
   ]
  },
  {
   "cell_type": "code",
   "execution_count": 5,
   "metadata": {
    "scrolled": true
   },
   "outputs": [
    {
     "data": {
      "text/plain": [
       "{'user': {'name': 'Dr Josh Brower',\n",
       "  'link': 'https://www.google.com/maps/contrib/112044676941472177853?hl=en-US&sa=X&ved=2ahUKEwjqkYfJiP_zAhVnnuAKHcHZCgkQvvQBegQIARAy',\n",
       "  'thumbnail': 'https://lh3.googleusercontent.com/a-/AOh14GgHaTF4PU2_MxHxRa9tTqfawOnipqaSX4r4M7d-H9k=s40-c-c0x00000000-cc-rp-mo-ba5-br100',\n",
       "  'local_guide': True,\n",
       "  'reviews': 128,\n",
       "  'photos': 837},\n",
       " 'rating': 2.0,\n",
       " 'date': 'a week ago',\n",
       " 'snippet': \"For now I would say stay away from this restaurant. I think they are having staffing issues effecting all levels of service. For a finer quality dining place this was poor. The older man that was the host when we entered was the high point for service. The server was a waitress and not particularly professional. To order took far to long, the cooking of the food took to long, and when it was delivered it wasn't to the right people with sides spread throughout the table instead of to the people who ordered them. The manager is a tall black man who definitely needs work on his customer service. The table next to us had a harsh discussion with him when he arrived unexpectedly to tell them their policy is to group all checks and include gratuity since they sat together although only half had food. He refused to split their check except some drinks but would not let them choose their gratuity. He kept saying he was in charge instead of being professional. I paid for our table and after waiting for 20 minutes for our check people started to leave. I had to leave the table and find the servers station. I explained people were leaving and asked how much longer it would be for my check. Instead of her answering he stood up and said just tell them it will be five more minutes. Everything could have been more professional. It was more of an experience for fast food than fine dining regarding service. I know everyone is having staffing issues, but when the meal is expensive the expectation is a higher level of service which is not found here right now. I'd say check back in six months.\",\n",
       " 'images': ['https://lh5.googleusercontent.com/p/AF1QipN7T9LaHnIBvOTcyoMooCzmM-ZocrDDhji2KmEK=w100-h100-p-n-k-no',\n",
       "  'https://lh5.googleusercontent.com/p/AF1QipMCHoGIqCMd2n6SKDQ1oQzoNpI1sT_7APxJuOpN=w100-h100-p-n-k-no',\n",
       "  'https://lh5.googleusercontent.com/p/AF1QipN2uxz-qvq00QVmVdNGwAAFjSVGD128QPkEBAPc=w100-h100-p-n-k-no',\n",
       "  'https://lh5.googleusercontent.com/p/AF1QipPGtqieLDM7668zqDNGf8ihmeZw_WGwe24DCDy6=w100-h100-p-n-k-no']}"
      ]
     },
     "execution_count": 5,
     "metadata": {},
     "output_type": "execute_result"
    }
   ],
   "source": [
    "reviews=json_data[0][\"reviews_data\"]\n",
    "reviews[0]"
   ]
  },
  {
   "cell_type": "markdown",
   "metadata": {},
   "source": [
    "### Example task: Sentiment Analysis"
   ]
  },
  {
   "cell_type": "markdown",
   "metadata": {},
   "source": [
    "In this example, we show a Deep Learning model you can get from Hugging Face. Some documentation for the library *transformers* can be found [here](https://huggingface.co/transformers/quicktour.html#getting-started-on-a-task-with-a-pipeline). The [model](https://huggingface.co/distilbert-base-uncased-finetuned-sst-2-english) we are loading is called “distilbert-base-uncased-finetuned-sst-2-english”. "
   ]
  },
  {
   "cell_type": "code",
   "execution_count": 6,
   "metadata": {},
   "outputs": [
    {
     "name": "stdout",
     "output_type": "stream",
     "text": [
      "loading model...\n"
     ]
    },
    {
     "name": "stderr",
     "output_type": "stream",
     "text": [
      "All model checkpoint layers were used when initializing TFDistilBertForSequenceClassification.\n",
      "\n",
      "All the layers of TFDistilBertForSequenceClassification were initialized from the model checkpoint at distilbert-base-uncased-finetuned-sst-2-english.\n",
      "If your task is similar to the task the model of the checkpoint was trained on, you can already use TFDistilBertForSequenceClassification for predictions without further training.\n"
     ]
    },
    {
     "name": "stdout",
     "output_type": "stream",
     "text": [
      "[{'label': 'POSITIVE', 'score': 0.9998764991760254}]\n"
     ]
    }
   ],
   "source": [
    "from transformers import pipeline\n",
    "\n",
    "print(\"loading model...\")\n",
    "sentiment_analysis = pipeline(\"sentiment-analysis\") # This might take a while\n",
    "print(sentiment_analysis(\"I love this!\"))"
   ]
  },
  {
   "cell_type": "code",
   "execution_count": 9,
   "metadata": {
    "scrolled": true
   },
   "outputs": [
    {
     "name": "stdout",
     "output_type": "stream",
     "text": [
      "1.0 stars review:\n",
      "I am a regular at this place. I have been going here before the pandemic and I have supported the place during the pandemic. The staff there is great including Eden, David, Nicole, Jessica, etc.Recently, I tried to go there around 9:30 knowing that the place closes at 10. The door was closed so I started walking away. A new staff member who is short and is wearing a vest came out and asked me if I had an order put in by 9:15. I said no but I told him I was a regular there and if it is possible for me to get desert. This guy that I have never seen before said in a condensing look and tone \"We would love to have you when the place is open\". I felt that was uncalled for and he could have just said we are closed now and I would have been fine with that. This guy is not the right person for this establishment. Eden ran this place very well and she was the sweetest manager anyone can ask for. This guy with a vest really does not understand customer service; something that I like about Capital Grille. If you are in the service business, know how to deliver good service instead of having an ego and please lose that vest. It is not needed.\n",
      "Prediction: [{'label': 'NEGATIVE', 'score': 0.9817858934402466}]\n"
     ]
    }
   ],
   "source": [
    "r=reviews[10]\n",
    "print(r[\"rating\"], \" stars review:\\n\", r[\"snippet\"], sep=\"\")\n",
    "print(\"Prediction:\", sentiment_analysis(r[\"snippet\"]))"
   ]
  },
  {
   "cell_type": "code",
   "execution_count": 8,
   "metadata": {
    "scrolled": false
   },
   "outputs": [
    {
     "name": "stdout",
     "output_type": "stream",
     "text": [
      "5.0 stars review:\n",
      "Thoroughly enjoyed my wife s birthday at Capital Grille Broadway tonight Oct 21 2021🎂 . We were served by Michael who was very professional, personable, and made great suggestions as we were unsure which seafood to select for main dishes. The sushi grade tuna dinner was one of the best I've had and the Seabass was quite delicious.. Michael checked on us frequently to make sure we were content. The grille hostess welcomed my wife with a Happy Birthday when being seated. Michael surprised us with a complementary happy birthday dessert for my wife with the words Happy Birthday in chocolate. It was a great evening thanks to Michael and The GRILLE!!!\n",
      "Prediction: [{'label': 'POSITIVE', 'score': 0.9998561143875122}]\n"
     ]
    }
   ],
   "source": [
    "r=reviews[1]\n",
    "print(r[\"rating\"], \" stars review:\\n\", r[\"snippet\"], sep=\"\")\n",
    "print(\"Prediction:\", sentiment_analysis(r[\"snippet\"]))"
   ]
  },
  {
   "cell_type": "markdown",
   "metadata": {},
   "source": [
    "As you can see, it labels a bad review (1 stars) as NEGATIVE and a good review (5 stars) as POSITIVE. Feel free to try other reviews or your own texts."
   ]
  },
  {
   "cell_type": "markdown",
   "metadata": {},
   "source": [
    "So, given this model, you have severel options. For example, you could try to change the last layer on the model to perform multiclass classification and try to **predict the rating of the review** through fine-tuning. Another option might be to extract the representations that this model generates in the hidden intermediate layers and use those in an ML pipeline using other algorithms. Some info on how to **fine-tune your models** can be found [here](https://huggingface.co/transformers/training.html). As previously mentioned, this is just one example and many other tasks and models can be trained. Take a look at other models at [Hugging Face](https://huggingface.co/) or make your own models from scratch."
   ]
  },
  {
   "cell_type": "markdown",
   "metadata": {},
   "source": [
    "However, it's not all about Deep Learning. The suggestion above might seem dauting if you've never done any DL before. Luckily for us, there are other ways to generate numerical representations from texts. For example, you could **use TF-IDF to compute a representation for every review**. Then you could use this representation to get the similarity between texts or to set up an ML pipeline using k-NN or other algorithms of your choice. This approach is not as powerful as standard DL but doesn't have such a steep learning curve."
   ]
  },
  {
   "cell_type": "markdown",
   "metadata": {},
   "source": [
    "If you are interested in this last approach you can take a look at the following resources:\n",
    "- Understanding TF-IDF: https://monkeylearn.com/blog/what-is-tf-idf/\n",
    "- Using TF-IDF for text classification: https://monkeylearn.com/blog/what-is-tf-idf/"
   ]
  },
  {
   "cell_type": "markdown",
   "metadata": {},
   "source": [
    "However, feel free to use any technologies you want. **Do research, explore, learn and enjoy!**"
   ]
  }
 ],
 "metadata": {
  "kernelspec": {
   "display_name": "Python 3",
   "language": "python",
   "name": "python3"
  },
  "language_info": {
   "codemirror_mode": {
    "name": "ipython",
    "version": 3
   },
   "file_extension": ".py",
   "mimetype": "text/x-python",
   "name": "python",
   "nbconvert_exporter": "python",
   "pygments_lexer": "ipython3",
   "version": "3.8.10"
  }
 },
 "nbformat": 4,
 "nbformat_minor": 4
}
