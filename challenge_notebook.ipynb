{
 "cells": [
  {
   "cell_type": "markdown",
   "metadata": {},
   "source": [
    "# Reviews Challenge"
   ]
  },
  {
   "cell_type": "markdown",
   "metadata": {},
   "source": [
    "The goal of this challange is to use data from restaurant reviews in Google Maps to create a Natural Language Processing (NLP) pipeline. For example, you can train a Deep Learning model to generate new random reviews or you could try to predict the number of stars a reviewer gave to a restaurant from the review they wrote. \n",
    "\n",
    "If you want you can also use this dataset in order to do some data analysis or visualization. For example, you could show the relationship between a restaurant's location, price and average rating. However, we encourage you to try to engage in some NLP/ML tasks. Even if you have no previous experience in Deep Learning or Machine Learning you can try to learn the basics over the weekend, at the end of the notebook we share with you some resources we think might be helpful.\n",
    "\n",
    "You may even deploy some NLP models you develop! Take, for example, a WebApp where a user can input a review and is given a prediction for the rating of said review. The sky is the limit, get your ceative juices flowing! \n",
    "\n",
    "The possibilities are endless. This notebook begins with a brief description of the dataset and continues with an example of an NLP task where I give some tips on how to tackle this challenge. At the end, we attach some links to some resources for those of you who might want to learn more about NLP and ML. When doing any sort of ML solution, remember to **train and validate** your models using *train_reviews.json* and report your accuracy or other metrics using the **test data** in *test_reviews.json*, if need be."
   ]
  },
  {
   "cell_type": "markdown",
   "metadata": {},
   "source": [
    "## Taking a look at our data"
   ]
  },
  {
   "cell_type": "markdown",
   "metadata": {},
   "source": [
    "First of all let's take a look at the data:"
   ]
  },
  {
   "cell_type": "code",
   "execution_count": 1,
   "metadata": {},
   "outputs": [],
   "source": [
    "import json "
   ]
  },
  {
   "cell_type": "code",
   "execution_count": 2,
   "metadata": {},
   "outputs": [],
   "source": [
    "f=open(\"reviews_data_clean.json\")\n",
    "json_data=json.load(f)"
   ]
  },
  {
   "cell_type": "code",
   "execution_count": 3,
   "metadata": {
    "scrolled": true
   },
   "outputs": [
    {
     "name": "stdout",
     "output_type": "stream",
     "text": [
      "Number of records (restaurants):  300\n"
     ]
    }
   ],
   "source": [
    "print(\"Number of records (restaurants): \",len(json_data))"
   ]
  },
  {
   "cell_type": "markdown",
   "metadata": {},
   "source": [
    "#### Example record"
   ]
  },
  {
   "cell_type": "code",
   "execution_count": 9,
   "metadata": {
    "scrolled": true
   },
   "outputs": [
    {
     "data": {
      "text/plain": [
       "['position',\n",
       " 'title',\n",
       " 'place_id',\n",
       " 'data_id',\n",
       " 'data_cid',\n",
       " 'gps_coordinates',\n",
       " 'rating',\n",
       " 'reviews',\n",
       " 'price',\n",
       " 'type',\n",
       " 'address',\n",
       " 'open_state',\n",
       " 'hours',\n",
       " 'phone',\n",
       " 'service_options',\n",
       " 'thumbnail',\n",
       " 'reviews_data']"
      ]
     },
     "execution_count": 9,
     "metadata": {},
     "output_type": "execute_result"
    }
   ],
   "source": [
    "list(json_data[0].keys())"
   ]
  },
  {
   "cell_type": "markdown",
   "metadata": {},
   "source": [
    "We have 42104 reviews in total, averaging at around 140 reviews per restaurant."
   ]
  },
  {
   "cell_type": "markdown",
   "metadata": {},
   "source": [
    "#### Example review"
   ]
  },
  {
   "cell_type": "code",
   "execution_count": 5,
   "metadata": {
    "scrolled": true
   },
   "outputs": [
    {
     "data": {
      "text/plain": [
       "{'user': {'name': 'Sonu Sonu',\n",
       "  'link': 'https://www.google.com/maps/contrib/117302158031083735630?hl=en-CA&sa=X&ved=2ahUKEwir5ZGs5P7zAhXqgf0HHYVXAJQQvvQBegQIARAh',\n",
       "  'thumbnail': 'https://lh3.googleusercontent.com/a/AATXAJzE052d2Vlg4Es2OsNZBXfDXFWtyinRhNHInqf2=s40-c-c0x00000000-cc-rp-mo-br100',\n",
       "  'reviews': 1},\n",
       " 'rating': 1.0,\n",
       " 'date': '3 months ago',\n",
       " 'snippet': 'Very bad taste , always sahi paneer is prepared with the sauce of cashew but i ate with tomato sauce very bad experience regarding taste but service ok'}"
      ]
     },
     "execution_count": 5,
     "metadata": {},
     "output_type": "execute_result"
    }
   ],
   "source": [
    "reviews=json_data[0][\"reviews_data\"]\n",
    "reviews[0]"
   ]
  },
  {
   "cell_type": "markdown",
   "metadata": {},
   "source": [
    "### Example task: Sentiment Analysis"
   ]
  },
  {
   "cell_type": "markdown",
   "metadata": {},
   "source": [
    "In this example, we show a Deep Learning model you can get from Hugging Face. Some documentation for the library *transformers* can be found [here](https://huggingface.co/transformers/quicktour.html#getting-started-on-a-task-with-a-pipeline). The [model](https://huggingface.co/distilbert-base-uncased-finetuned-sst-2-english) we are loading is called “distilbert-base-uncased-finetuned-sst-2-english”. "
   ]
  },
  {
   "cell_type": "code",
   "execution_count": 6,
   "metadata": {},
   "outputs": [
    {
     "name": "stdout",
     "output_type": "stream",
     "text": [
      "loading model...\n"
     ]
    },
    {
     "name": "stderr",
     "output_type": "stream",
     "text": [
      "All model checkpoint layers were used when initializing TFDistilBertForSequenceClassification.\n",
      "\n",
      "All the layers of TFDistilBertForSequenceClassification were initialized from the model checkpoint at distilbert-base-uncased-finetuned-sst-2-english.\n",
      "If your task is similar to the task the model of the checkpoint was trained on, you can already use TFDistilBertForSequenceClassification for predictions without further training.\n"
     ]
    },
    {
     "name": "stdout",
     "output_type": "stream",
     "text": [
      "[{'label': 'POSITIVE', 'score': 0.9998764991760254}]\n"
     ]
    }
   ],
   "source": [
    "from transformers import pipeline\n",
    "\n",
    "print(\"loading model...\")\n",
    "sentiment_analysis = pipeline(\"sentiment-analysis\") # This might take a while\n",
    "print(sentiment_analysis(\"I love this!\"))"
   ]
  },
  {
   "cell_type": "code",
   "execution_count": 7,
   "metadata": {
    "scrolled": true
   },
   "outputs": [
    {
     "name": "stdout",
     "output_type": "stream",
     "text": [
      "2.0 stars review:\n",
      "Many items on the menu were not Available and the food quality was low. The curry was all bones and the portions were not big enough. Service was good from one person but then another waiter got involved and wasnt good. Expected more after looking at the reviews and pictures but done expect much from this place\n",
      "Prediction: [{'label': 'NEGATIVE', 'score': 0.9983540177345276}]\n"
     ]
    }
   ],
   "source": [
    "r=reviews[6]\n",
    "print(r[\"rating\"], \" stars review:\\n\", r[\"snippet\"], sep=\"\")\n",
    "print(\"Prediction:\", sentiment_analysis(r[\"snippet\"]))"
   ]
  },
  {
   "cell_type": "code",
   "execution_count": 8,
   "metadata": {
    "scrolled": false
   },
   "outputs": [
    {
     "name": "stdout",
     "output_type": "stream",
     "text": [
      "5.0 stars review:\n",
      "Very good value. Tasty grilled chicken.\n",
      "Prediction: [{'label': 'POSITIVE', 'score': 0.9996946454048157}]\n"
     ]
    }
   ],
   "source": [
    "r=reviews[1]\n",
    "print(r[\"rating\"], \" stars review:\\n\", r[\"snippet\"], sep=\"\")\n",
    "print(\"Prediction:\", sentiment_analysis(r[\"snippet\"]))"
   ]
  },
  {
   "cell_type": "markdown",
   "metadata": {},
   "source": [
    "As you can see, it labels a bad review (2 stars) as NEGATIVE and a good review (5 stars) as POSITIVE. Feel free to try other reviews or your own texts."
   ]
  },
  {
   "cell_type": "markdown",
   "metadata": {},
   "source": [
    "So, given this model, you have severel options. For example, you could try to change the last layer on the model to perform multiclass classification and try to **predict the rating of the review** through fine-tuning. Another option might be to extract the representations that this model generates in the hidden intermediate layers and use those in an ML pipeline using other algorithms. Some info on how to **fine-tune your models** can be found [here](https://huggingface.co/transformers/training.html). As previously mentioned, this is just one example and many other tasks and models can be trained. Take a look at other models at [Hugging Face](https://huggingface.co/) or make your own models from scratch."
   ]
  },
  {
   "cell_type": "markdown",
   "metadata": {},
   "source": [
    "However, it's not all about Deep Learning. The suggestion above might seem dauting if you've never done any DL before. Luckily for us, there are other ways to generate numerical representations from texts. For example, you could **use TF-IDF to compute a representation for every review**. Then you could use this representation to get the similarity between texts or to set up an ML pipeline using k-NN or other algorithms of your choice. This approach is not as powerful as standard DL but doesn't have such a steep learning curve."
   ]
  },
  {
   "cell_type": "markdown",
   "metadata": {},
   "source": [
    "If you are interested in this last approach you can take a look at the following resources:\n",
    "- Understanding TF-IDF: https://monkeylearn.com/blog/what-is-tf-idf/\n",
    "- Using TF-IDF for text classification: https://monkeylearn.com/blog/what-is-tf-idf/"
   ]
  },
  {
   "cell_type": "markdown",
   "metadata": {},
   "source": [
    "However, feel free to use any technologies you want. **Do research, explore, learn and enjoy!**"
   ]
  }
 ],
 "metadata": {
  "kernelspec": {
   "display_name": "Python 3",
   "language": "python",
   "name": "python3"
  },
  "language_info": {
   "codemirror_mode": {
    "name": "ipython",
    "version": 3
   },
   "file_extension": ".py",
   "mimetype": "text/x-python",
   "name": "python",
   "nbconvert_exporter": "python",
   "pygments_lexer": "ipython3",
   "version": "3.8.10"
  }
 },
 "nbformat": 4,
 "nbformat_minor": 4
}
